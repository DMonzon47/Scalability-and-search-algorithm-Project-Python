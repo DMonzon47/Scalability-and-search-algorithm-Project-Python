{
 "cells": [
  {
   "cell_type": "code",
   "execution_count": 2,
   "metadata": {},
   "outputs": [],
   "source": [
    "import random as rand\n",
    "import time\n",
    "import matplotlib.pyplot as plt\n",
    "import numpy as np\n",
    "#use pandas to set data as df. ??"
   ]
  },
  {
   "cell_type": "code",
   "execution_count": 3,
   "metadata": {},
   "outputs": [],
   "source": [
    "# trouble shoot\n",
    "#subexpr1 = abnormalSignAnalytics(mydict,50)\n",
    "#print(type(subexpr1), subexpr1)\n",
    "#print()\n",
    "#subexpr2 = subexpr1[heldguess]\n",
    "#print(type(subexpr2), subexpr2)\n",
    "#if heldguess in currentguess:\n",
    "    #print(\"btw,  {} already exists\".format(heldguess))\n",
    "    #print(\"before:\", type(currentguess[heldguess]), currentguess[heldguess])"
   ]
  },
  {
   "cell_type": "markdown",
   "metadata": {},
   "source": [
    "Phase 1:"
   ]
  },
  {
   "cell_type": "code",
   "execution_count": 3,
   "metadata": {},
   "outputs": [],
   "source": [
    "#new_dict = {n:[a,b,c,d,e,f,g],n:[a,b,c,d,e,f,g]}\n",
    "         \n",
    "def myHealthcare(n):\n",
    "    mydict = {} \n",
    "    #t1 = time.time()\n",
    "    rand.seed(404)\n",
    "    #creating several lists to store generated data.\n",
    "    temp = []\n",
    "    hr = []\n",
    "    pulse = []\n",
    "    bloodpr = []\n",
    "    resrate = []\n",
    "    oxsat = []\n",
    "    pH = []\n",
    "    \n",
    "    for i in range(n):\n",
    "        #generate data using rand function, which is then appended to their respective lists. \n",
    "        temp.append(rand.randint(36,39))\n",
    "        hr.append(rand.randint(55,100))\n",
    "        pulse.append(rand.randint(55,100))\n",
    "        bloodpr.append(rand.randint(120,121))\n",
    "        resrate.append(rand.randint(11,17))\n",
    "        oxsat.append(rand.randint(93,100))\n",
    "        pH.append((round(rand.uniform(7.1,7.6),1)))  \n",
    "       \n",
    "    for i in range(n): \n",
    "        mydict[i]=[temp[i]] #iterates through temp and creates a dictionary with key i as timestamp. \n",
    "        mydict[i].extend([hr[i],pulse[i],bloodpr[i],resrate[i],oxsat[i],pH[i]]) \n",
    "        \n",
    "        #add multiple values to each key.\n",
    "    \n",
    "    return mydict"
   ]
  },
  {
   "cell_type": "code",
   "execution_count": 16,
   "metadata": {
    "scrolled": true
   },
   "outputs": [],
   "source": [
    "mydict=myHealthcare(1000)\n",
    "#dict(list(mydict.items())[0:5])"
   ]
  },
  {
   "cell_type": "markdown",
   "metadata": {},
   "source": [
    "Phase 2\n",
    "\n",
    "a) Find abnormal values for pulse or blood pressure.\n",
    "\n",
    "o Select a small sample e.g.50 records and count the instances where a vital sign was out of the normal range for a selected value. \n",
    "\n",
    "Return selected values for each timestamp. Example output for pulse with 3 abnormal values could be [pulse, 3, [[105,56], [109,57], [125,59]]] or {“ abnormal_pulse_count”: 3, “abnormal_values”: [[105,56], [109,57], [125,59]]}, where [105,56] is [timestamp,value]. Feel free to create your own data structure.\n",
    "\n"
   ]
  },
  {
   "cell_type": "code",
   "execution_count": 17,
   "metadata": {},
   "outputs": [],
   "source": [
    "#2a\n",
    "#Linear search O(n)\n",
    "#dict2 to store values searched from previous dict. 'abnormal_values' stores multiple ts and abnormal \n",
    "#pulse values found, in a list.\n",
    "\n",
    "scatter_data={} #used to store data for (2c) to plot a scatter graph.\n",
    "def abnormalSignAnalytics(adict1,n):\n",
    "    start = time.time()\n",
    "    rand.seed(404)\n",
    "    mydict2 = {'abnormal_pulse_count': 0, 'abnormal_values': []}\n",
    "    dicto={}\n",
    "    segment = len(adict1)-1 #range of random ints to be generated.\n",
    "#add keys and values of randomly selected keys (ts) from inputted dictionary (adict1) into 'dicto' until length\n",
    "#is n. This overcomes the chance of duplicate random keys being generated, thus reducing the no. of total records selected. \n",
    "    while len(dicto)!= n:\n",
    "        key=int(rand.random()*segment)\n",
    "        value= adict1[key]\n",
    "        dicto[key] = value\n",
    "        scatter_data[key] = value\n",
    "    \n",
    "    \n",
    "    print('There are ' + str(len(dicto)) + ' records selected')\n",
    "    \n",
    "#linear search for each key in 'dicto'. O(n) time complexity.\n",
    "    for key in dicto:\n",
    "        if dicto[key][2] >= 60 and dicto[key][2]<= 99:            \n",
    "            continue\n",
    "    \n",
    "#checks if each value of 'pulse' for each row is within the normal rates. If normal, continue code.\n",
    "        else:\n",
    "            mydict2['abnormal_pulse_count']+=1\n",
    "            mydict2['abnormal_values'].append([key,dicto[key][2]])\n",
    "#if value is outside of normal range then +=1 'abnormal_pulse_count', add 'ts' and value to mydict2 list. \n",
    "    end = time.time()\n",
    "    t = (end-start) #add benchmark times to alist. \n",
    "    print('Time taken to run function: '+ str(t) + ' '+'seconds')\n",
    "    return mydict2\n",
    "            "
   ]
  },
  {
   "cell_type": "code",
   "execution_count": 18,
   "metadata": {
    "scrolled": true
   },
   "outputs": [
    {
     "name": "stdout",
     "output_type": "stream",
     "text": [
      "There are 50 records selected\n",
      "Time taken to run function: 0.00033092498779296875 seconds\n",
      "{'abnormal_pulse_count': 9, 'abnormal_values': [[87, 100], [596, 57], [332, 57], [479, 59], [531, 55], [815, 55], [94, 59], [211, 57], [258, 59]]}\n"
     ]
    }
   ],
   "source": [
    "abnormaldict = abnormalSignAnalytics(mydict,50)\n",
    "print(abnormaldict)"
   ]
  },
  {
   "cell_type": "markdown",
   "metadata": {},
   "source": [
    "2c) This algorithm utillises a random function is used to generate random numbers, within range of the amount of samples generated in phase 1, to choose n number of time stamps to use as records. This is a non-determnistic approach which creates an assumption-free collection.\n",
    "\n",
    "Also, a linear search is used which has a time complexity worst case scenario of O(n) which is fair. There are a few 'for loops' used but nothing more complicated (e.g. nested for loops) that would increase the time complexity. \n",
    "\n",
    "\n",
    "Although binary search would have produced a lower time complexity of O(logn), Logarithmic time, it would require a sort algorithm to achieve this as the keys in the dictionary from phase 1 are not ordered. If I were to implement the lowest time complexity sort algorithm explored in lectures (Mergesort or Timsort) they at best would provide a time complexity of O(nlogn) and O(n) respectively. However, a worst case scenario of O(nlogn) which is worse than my current time complexity. "
   ]
  },
  {
   "cell_type": "code",
   "execution_count": 9,
   "metadata": {},
   "outputs": [
    {
     "data": {
      "image/png": "[encoded data removed]",
      "text/plain": [
       "<Figure size 432x288 with 1 Axes>"
      ]
     },
     "metadata": {
      "needs_background": "light"
     },
     "output_type": "display_data"
    }
   ],
   "source": [
    "#2c) \n",
    "#scatter of 2a: timestamp vs abnormal and normal pulse rates.\n",
    "x = []\n",
    "y = []\n",
    "\n",
    "x1 = []\n",
    "y1 = []\n",
    "\n",
    "for key in scatter_data: \n",
    "    if scatter_data[key][2] >= 60 and scatter_data[key][2] <=99:\n",
    "        x.append(key)\n",
    "        y.append(scatter_data[key][2])\n",
    "    else:\n",
    "        x1.append(key)\n",
    "        y1.append(scatter_data[key][2])\n",
    "\n",
    "\n",
    "plt.scatter(x,y, color = 'green', label = 'normal')\n",
    "plt.scatter(x1,y1, color = 'red', label = 'abnormal')\n",
    "plt.xlabel('Timestamp (ts)')\n",
    "plt.ylabel('Pulse rate (pulse)')\n",
    "plt.legend(loc=\"lower right\", prop = {'size':7})\n",
    "plt.ylim(50, 105)\n",
    "\n",
    "#plt.plot(figsize=[40,40])#to change figure size\n",
    "plt.title(\"Pulse rate vs time stamp scatter plot.\")\n",
    "\n",
    "plt.show()"
   ]
  },
  {
   "cell_type": "markdown",
   "metadata": {},
   "source": [
    "b) Present a frequency histogram of pulse rates.\n",
    "\n",
    "o Select a small sample e.g. 50 records, find the frequency for pulse rate\n",
    "\n",
    "values. Example output could be: [[55,2],[56,6],[57,4],[59,12],...]"
   ]
  },
  {
   "cell_type": "code",
   "execution_count": 10,
   "metadata": {},
   "outputs": [],
   "source": [
    "def frequencyAnalytics(adict1,n):\n",
    "    start = time.time()\n",
    "    rand.seed(404)\n",
    "    dictwo = {}\n",
    "    mydict2 = {}\n",
    "    segment = len(adict1)-1\n",
    "    mylst = []\n",
    "\n",
    "    #add keys and values of randomly selected keys (ts) from inputted dictionary (adict1) into 'dictwo' until length\n",
    "    #is n. This overcomes the chance of duplicate random keys being generated, thus reducing the no. of total records selected. \n",
    "    while len(dictwo)!= n:\n",
    "         key=int(rand.random()*segment)\n",
    "         value= adict1[key]\n",
    "         dictwo[key] = value\n",
    "    \n",
    "    print('There are '+ str(len(dictwo))+ ' samples selected.') #to check contents of dictwo\n",
    "\n",
    "    for key in dictwo:\n",
    "        key  = dictwo[key][2] #dictwo[key][2] is pulse value\n",
    "        value = 1\n",
    "        if key in mydict2: #if key is already in mydict2, then +=1 value of that key.\n",
    "            mydict2[key] +=1\n",
    "        else: \n",
    "            mydict2[key]=value #if key is not in mydict2, then create new pulse key with value 1. \n",
    "            \n",
    "    #print(mydict2) \n",
    "    \n",
    "    #Histogram plot for 2b.\n",
    "    #store data from dictwo into lists y_abnormal and y_normal to plot for histogram.\n",
    "    y_abnormal = [] \n",
    "    y_normal= []\n",
    "\n",
    "    #loops through dictwo to seperate pulse rates into 'normal' and 'abnormal' data groups for histo. \n",
    "    for key in dictwo:\n",
    "        key  = dictwo[key][2] #dictwo[key][2] is pulse value\n",
    "    \n",
    "        if key >=60 and key <=99: #if pulse is between these 'normal' values then append to this dict.\n",
    "            y_normal.append(key)\n",
    "        else: \n",
    "            y_abnormal.append(key) # pulse is therefor in the abnormal range so is appended to this dict. \n",
    "\n",
    "\n",
    "    bins = [50,60,70,80,90,100,110]\n",
    "\n",
    "    plt.hist([y_abnormal,y_normal], bins, histtype = 'bar', rwidth = 0.95, color = ['r','g'], label=['abnormal','normal'])\n",
    "\n",
    "    plt.xlabel('Pulse rate ranges(pulse)')\n",
    "    plt.ylabel('Frequency(n)')\n",
    "    plt.legend()\n",
    "    plt.title(\"Pulse frequency histogram of sample chosen from abnormalSignAnalytics.\")\n",
    "\n",
    "    plt.show()\n",
    "    \n",
    "    end = time.time()\n",
    "    t = (end-start) #add benchmark times to alist. \n",
    "    print('Time taken to run function: '+ str(t) + ' '+'seconds') \n",
    "    return mydict2 #shows key as pulse rates, value as frequency of occurance. "
   ]
  },
  {
   "cell_type": "code",
   "execution_count": 11,
   "metadata": {
    "scrolled": true
   },
   "outputs": [
    {
     "name": "stdout",
     "output_type": "stream",
     "text": [
      "There are 100 samples selected.\n"
     ]
    },
    {
     "data": {
      "image/png": "[encoded data removed]",
      "text/plain": [
       "<Figure size 432x288 with 1 Axes>"
      ]
     },
     "metadata": {
      "needs_background": "light"
     },
     "output_type": "display_data"
    },
    {
     "name": "stdout",
     "output_type": "stream",
     "text": [
      "Time taken to run function: 0.3816220760345459 seconds\n",
      "{100: 2, 72: 3, 76: 2, 95: 4, 57: 5, 82: 3, 64: 2, 94: 1, 63: 3, 59: 3, 55: 3, 61: 3, 77: 4, 73: 2, 71: 2, 65: 3, 62: 1, 74: 2, 67: 1, 70: 6, 80: 1, 78: 1, 81: 2, 99: 3, 98: 4, 86: 5, 79: 1, 89: 1, 69: 1, 97: 1, 84: 1, 75: 3, 92: 3, 66: 1, 85: 2, 83: 3, 56: 2, 93: 4, 60: 1, 68: 2, 96: 1, 87: 1, 90: 1}\n"
     ]
    }
   ],
   "source": [
    "frequencydict = frequencyAnalytics(mydict,100)\n",
    "print(frequencydict)"
   ]
  },
  {
   "cell_type": "code",
   "execution_count": 12,
   "metadata": {},
   "outputs": [],
   "source": [
    "dictwo = {}\n",
    "\n",
    "def frequencyAnalytics2(adict1,n):\n",
    "    start = time.time()\n",
    "    rand.seed(404)\n",
    "\n",
    "    mydict2 = {}\n",
    "    segment = len(adict1)-1\n",
    "    mylst = []\n",
    "\n",
    "    #add keys and values of randomly selected keys (ts) from inputted dictionary (adict1) into 'dictwo' until length\n",
    "    #is n. This overcomes the chance of duplicate random keys being generated, thus reducing the no. of total records selected. \n",
    "    while len(dictwo)!= n:\n",
    "         key=int(rand.random()*segment)\n",
    "         value= adict1[key]\n",
    "         dictwo[key] = value\n",
    "    \n",
    "    print('There are '+ str(len(dictwo))+ ' samples selected.') #to check contents of dictwo\n",
    "\n",
    "    for key in dictwo:\n",
    "        key  = dictwo[key][2] #dictwo[key][2] is pulse value\n",
    "        value = 1\n",
    "        if key in mydict2: #if key is already in mydict2, then +=1 value of that key.\n",
    "            mydict2[key] +=1\n",
    "        else: \n",
    "            mydict2[key]=value #if key is not in mydict2, then create new pulse key with value 1. \n",
    "            \n",
    "    #print(mydict2) \n",
    "    \n",
    "    end = time.time()\n",
    "    t = (end-start) #add benchmark times to alist. \n",
    "    print('Time taken to run function: '+ str(t) + ' '+'seconds') \n",
    "    return mydict2 #shows key as pulse rates, value as frequency of occurance. "
   ]
  },
  {
   "cell_type": "code",
   "execution_count": 13,
   "metadata": {},
   "outputs": [
    {
     "name": "stdout",
     "output_type": "stream",
     "text": [
      "There are 100 samples selected.\n",
      "Time taken to run function: 0.0004799365997314453 seconds\n",
      "{100: 2, 72: 3, 76: 2, 95: 4, 57: 5, 82: 3, 64: 2, 94: 1, 63: 3, 59: 3, 55: 3, 61: 3, 77: 4, 73: 2, 71: 2, 65: 3, 62: 1, 74: 2, 67: 1, 70: 6, 80: 1, 78: 1, 81: 2, 99: 3, 98: 4, 86: 5, 79: 1, 89: 1, 69: 1, 97: 1, 84: 1, 75: 3, 92: 3, 66: 1, 85: 2, 83: 3, 56: 2, 93: 4, 60: 1, 68: 2, 96: 1, 87: 1, 90: 1}\n"
     ]
    }
   ],
   "source": [
    "frequencydict2 = frequencyAnalytics2(mydict,100)\n",
    "print(frequencydict2)"
   ]
  },
  {
   "cell_type": "code",
   "execution_count": 14,
   "metadata": {},
   "outputs": [],
   "source": [
    "def frequencyAnalyticsHisto(adict):  \n",
    "    start = time.time()\n",
    "    #Histogram plot for 2b.\n",
    "    #store data from dictwo into lists y_abnormal and y_normal to plot for histogram.\n",
    "    y_abnormal = [] \n",
    "    y_normal= []\n",
    "\n",
    "    #loops through dictwo to seperate pulse rates into 'normal' and 'abnormal' data groups for histo. \n",
    "    for key in dictwo:\n",
    "        key  = dictwo[key][2] #dictwo[key][2] is pulse value\n",
    "    \n",
    "        if key >=60 and key <=99: #if pulse is between these 'normal' values then append to this dict.\n",
    "            y_normal.append(key)\n",
    "        else: \n",
    "            y_abnormal.append(key) # pulse is therefor in the abnormal range so is appended to this dict. \n",
    "\n",
    "\n",
    "    bins = [50,60,70,80,90,100,110]\n",
    "\n",
    "    plt.hist([y_abnormal,y_normal], bins, histtype = 'bar', rwidth = 0.95, color = ['r','g'], label=['abnormal','normal'])\n",
    "\n",
    "    plt.xlabel('Pulse rate ranges(pulse)')\n",
    "    plt.ylabel('Frequency(n)')\n",
    "    plt.legend()\n",
    "    plt.title(\"Pulse frequency histogram of sample chosen from abnormalSignAnalytics.\")\n",
    "\n",
    "    plt.show()\n",
    "    \n",
    "    end = time.time()\n",
    "    t = (end-start) #add benchmark times to alist. \n",
    "    print('Time taken to run function: '+ str(t) + ' '+'seconds') "
   ]
  },
  {
   "cell_type": "code",
   "execution_count": 15,
   "metadata": {},
   "outputs": [
    {
     "data": {
      "image/png": "[encoded data removed]",
      "text/plain": [
       "<Figure size 432x288 with 1 Axes>"
      ]
     },
     "metadata": {
      "needs_background": "light"
     },
     "output_type": "display_data"
    },
    {
     "name": "stdout",
     "output_type": "stream",
     "text": [
      "Time taken to run function: 0.2788691520690918 seconds\n",
      "None\n"
     ]
    }
   ],
   "source": [
    "print(frequencyAnalyticsHisto(dictwo))"
   ]
  },
  {
   "cell_type": "markdown",
   "metadata": {},
   "source": [
    "2c) As seen in the histogram for (2b), there appears to be a random but slight normal distribution where majority of the pulse rates is between 60 and 99. The most common pulse rates in that sample seem to be between 75 and 80. There was only 1 record with pulse rate of 100. A total of 8 abnormal records and 42\n",
    "\n",
    "This algorithm utillises a linear search which has a time complexity worst case scenario of O(n) which is fair. There are a few 'for loops' used but nothing more complicated (e.g. nested for loops) that would increase the time complexity. \n",
    "\n",
    "A random function is used to generate random numbers, within range of the amount of samples generated in phase 1, to choose n number of time stamps to use as records. \n",
    "\n",
    "Space complexity is very minimal as most of the data printed is stored in a dictionary where by keys are the 'pulse rates' and values are the frequency of occurances. Many small lists are also used within the functions. \n",
    "\n",
    "Although binary search would have produced a lower time complexity of O(logn), Logarithmic time, it would require a sort algorithm to achieve this as the keys in the dictionary are not ordered. If I were to implement the lowest time complexity sort algorithm explored in lectures (Mergesort or Timsort) they at best would provide a time complexity of O(nlogn) and O(n) respectively. However, a worst case scenario of O(nlogn) which is worse than my current time complexity. \n",
    "\n"
   ]
  },
  {
   "cell_type": "markdown",
   "metadata": {},
   "source": [
    "Phase 3: Search for heart rates using the HealthAnalyzer (30 marks)\n",
    "\n",
    "Develop a function called HealthAnalyzer. HealthAnalyzer provides a query mechanism to search for a particular sign value, for example it could search for records where the pulse value is 56."
   ]
  },
  {
   "cell_type": "code",
   "execution_count": 16,
   "metadata": {},
   "outputs": [],
   "source": [
    "#Linear search O(n) with Timsort (sorted()), worst case O(nlogn) and best case O(n)\n",
    "alist = []\n",
    "def healthAnalyzer(adict,n):\n",
    "    rand.seed(404)\n",
    "    start = time.time()\n",
    "    healthlist=[]\n",
    "    \n",
    "#creates a sorted list using list comprehension, in ascending order of their key(ts). \n",
    "#sorted function utilises Timsort algorithm.\n",
    "    sorted_list = [(key, value[0],value[1],value[2],value[3],value[4],value[5],value[6])\\\n",
    "                   for (key, value) in sorted(adict.items())]\n",
    "    \n",
    "\n",
    "#linear search of sorted_list, checking if index[3] has a pulse rate of n, if so, append to a healthlist.\n",
    "    for e in sorted_list: \n",
    "        if e[3] == n:\n",
    "            healthlist.append(e)\n",
    "    \n",
    "    if len(healthlist)==0:\n",
    "        print('Pulse rate not found in records.')\n",
    "    \n",
    "\n",
    "    end = time.time()\n",
    "    t = (end-start) #add benchmark times to alist. \n",
    "    print('Time taken to run function: '+ str(t) + ' '+'seconds')\n",
    "    return healthlist\n",
    "                       \n",
    "                           "
   ]
  },
  {
   "cell_type": "code",
   "execution_count": 17,
   "metadata": {},
   "outputs": [
    {
     "name": "stdout",
     "output_type": "stream",
     "text": [
      "Time taken to run function: 0.0007841587066650391 seconds\n",
      "[(1, 39, 61, 56, 121, 11, 93, 7.2), (75, 36, 83, 56, 120, 12, 99, 7.2), (126, 37, 90, 56, 121, 12, 98, 7.2), (202, 39, 80, 56, 121, 14, 99, 7.3), (240, 39, 92, 56, 121, 14, 100, 7.4), (310, 37, 84, 56, 121, 13, 96, 7.5), (337, 36, 70, 56, 121, 12, 93, 7.1), (457, 37, 100, 56, 121, 17, 99, 7.3), (514, 39, 76, 56, 121, 11, 93, 7.5), (548, 36, 79, 56, 121, 13, 95, 7.2), (551, 37, 98, 56, 120, 16, 96, 7.5), (575, 36, 78, 56, 121, 15, 93, 7.6), (597, 39, 77, 56, 121, 15, 94, 7.4), (626, 38, 86, 56, 121, 15, 98, 7.1), (673, 38, 76, 56, 121, 12, 95, 7.2), (700, 38, 89, 56, 120, 12, 95, 7.2), (740, 38, 83, 56, 120, 15, 97, 7.3), (756, 37, 84, 56, 120, 16, 98, 7.4), (786, 39, 70, 56, 120, 15, 93, 7.4), (808, 37, 82, 56, 121, 17, 98, 7.4), (929, 38, 76, 56, 120, 16, 95, 7.2), (964, 38, 82, 56, 121, 14, 96, 7.4)]\n"
     ]
    }
   ],
   "source": [
    "healthanalyser = healthAnalyzer(mydict, 56) #search for instances where pulse value is 56\n",
    "print(healthanalyser)"
   ]
  },
  {
   "cell_type": "markdown",
   "metadata": {},
   "source": [
    "3b) The complexity of healthAnalyzer: Timsort function is used so time complexity worst case O(nlogn) and best case O(n), space complexity O(n).\n",
    "\n",
    "I also use a linear search algorithm which has a worst case O(n) time complexity. \n",
    "\n",
    "Overall, worstcase O(nlogn).\n",
    "\n",
    "However, if the outputted multidimensional list is not required to be ordered then healthAnalyser2 which only uses a linear search would have a lower complexity of O(n). "
   ]
  },
  {
   "cell_type": "code",
   "execution_count": 19,
   "metadata": {
    "scrolled": true
   },
   "outputs": [
    {
     "data": {
      "text/plain": [
       "<function matplotlib.pyplot.show(*args, **kw)>"
      ]
     },
     "execution_count": 19,
     "metadata": {},
     "output_type": "execute_result"
    },
    {
     "data": {
      "image/png": "[encoded data removed]",
      "text/plain": [
       "<Figure size 432x288 with 1 Axes>"
      ]
     },
     "metadata": {
      "needs_background": "light"
     },
     "output_type": "display_data"
    }
   ],
   "source": [
    "#3c Plotting the heartrate values for records having pulserate 56.\n",
    "rand.seed(404)\n",
    "pulse = []\n",
    "hr = []\n",
    "ts  = []\n",
    "\n",
    "for i in healthanalyser: \n",
    "    hr.append(i[2]) #index[2] is heart rate for each record.\n",
    "    ts.append(i[0]) #index[0] is time stamp.\n",
    "\n",
    "x = ts\n",
    "y = hr\n",
    "\n",
    "\n",
    "plt.plot(x,y)\n",
    "plt.xlabel(\"Timestamps (ts)\")\n",
    "plt.ylabel(\"Heart rate (hr)\")\n",
    "plt.title('Heart rate values for records having Pulse rate : 56')\n",
    "plt.show"
   ]
  },
  {
   "cell_type": "code",
   "execution_count": 44,
   "metadata": {},
   "outputs": [],
   "source": [
    "#majority of code is from lecture content of PWD. \n",
    "\n",
    "def binarySearch(arr, l, r, x):\n",
    "    start = time.time()\n",
    "    while l <= r:\n",
    "\n",
    "        mid = int(l + (r - l) / 2);\n",
    "\n",
    "        # Check if x is present at mid\n",
    "        if arr[mid] == x:\n",
    "            return mid\n",
    "\n",
    "            # If x is greater, ignore left half\n",
    "        elif arr[mid] < x:\n",
    "            l = mid + 1\n",
    "\n",
    "        # If x is smaller, ignore right half\n",
    "        else:\n",
    "            r = mid - 1\n",
    "\n",
    "    # If we reach here, then the element\n",
    "    # was not present\n",
    "    return -1\n",
    "    end = time.time()\n",
    "    t = (end-start) #add benchmark times to alist. \n",
    "    print('Time taken to run function: '+ str(t) + ' '+'seconds')\n"
   ]
  },
  {
   "cell_type": "code",
   "execution_count": 45,
   "metadata": {},
   "outputs": [
    {
     "name": "stdout",
     "output_type": "stream",
     "text": [
      "[(202, 39, 80, 56, 121, 14, 99, 7.3), (240, 39, 92, 56, 121, 14, 100, 7.4), (310, 37, 84, 56, 121, 13, 96, 7.5), (337, 36, 70, 56, 121, 12, 93, 7.1), (457, 37, 100, 56, 121, 17, 99, 7.3), (514, 39, 76, 56, 121, 11, 93, 7.5), (548, 36, 79, 56, 121, 13, 95, 7.2), (551, 37, 98, 56, 120, 16, 96, 7.5), (575, 36, 78, 56, 121, 15, 93, 7.6), (597, 39, 77, 56, 121, 15, 94, 7.4), (626, 38, 86, 56, 121, 15, 98, 7.1), (126, 37, 90, 56, 121, 12, 98, 7.2), (673, 38, 76, 56, 121, 12, 95, 7.2), (700, 38, 89, 56, 120, 12, 95, 7.2), (740, 38, 83, 56, 120, 15, 97, 7.3), (756, 37, 84, 56, 120, 16, 98, 7.4), (786, 39, 70, 56, 120, 15, 93, 7.4), (808, 37, 82, 56, 121, 17, 98, 7.4), (929, 38, 76, 56, 120, 16, 95, 7.2), (964, 38, 82, 56, 121, 14, 96, 7.4), (1, 39, 61, 56, 121, 11, 93, 7.2), (75, 36, 83, 56, 120, 12, 99, 7.2)]\n"
     ]
    }
   ],
   "source": [
    "#Binary search O(logn) best case scenario.\n",
    "\n",
    "def healthAnalyzer2(adict,value):\n",
    "    rand.seed(404)\n",
    "    start = time.time()\n",
    "    #healthlist=[]\n",
    "    l = ''\n",
    "    r = ''\n",
    "#creates a sorted list using list comprehension, in ascending order of their key / ts. \n",
    "#sorted function utilises Timsort algorithm.\n",
    "\n",
    "# using sorted() and lambda to sort dictionary value list. Sort by index[3] which is pulse rate value.  \n",
    "    r=[]\n",
    "    sorted_list = [(key, value[0],value[1],value[2],value[3],value[4],value[5],value[6])\\\n",
    "                   for (key, value) in sorted(adict.items())\n",
    "                  ]\n",
    "    sorted_list.sort(key = lambda sorted_list: sorted_list[3])\n",
    "    m = [p for p in sorted_list]\n",
    "    v = [sorted_list[i][3] for i in range(len(sorted_list))]\n",
    "    while value in v:\n",
    "        i=binarySearch(v,0,len(v),value)\n",
    "        r.append(m.pop(i))\n",
    "        v.pop(i)\n",
    "    return(r)\n",
    "    \n",
    "    \n",
    "    binary\n",
    "    end = time.time()\n",
    "    t = (end-start) #add benchmark times to alist. \n",
    "    print('Time taken to run function: '+ str(t) + ' '+'seconds')\n",
    "# def binSearch(collection, left, right, key):\n",
    "#     \"\"\"Takes collection for a SORTED collection, in ascending order and determines whether key belongs to it.\n",
    "#     Implements the in operator of python\n",
    "#     left and right are the boundaries of the segment to be searched\"\"\"\n",
    "# e.g. sorted_list, 0, len(sorted_list), key[3]==55??\n",
    "\n",
    "print(healthAnalyzer2(mydict, 56))"
   ]
  },
  {
   "cell_type": "markdown",
   "metadata": {},
   "source": [
    "Phase 4: Testing scalibility of your algorithm.\n",
    "\n",
    "a) Create a function benchmarking"
   ]
  },
  {
   "cell_type": "code",
   "execution_count": 108,
   "metadata": {},
   "outputs": [],
   "source": [
    "alist=[] \n",
    "lst1 = [1000,2500,5000,7500,10000] #generating n instances from myHealthCare function\n",
    "def benchmarking():\n",
    "    \n",
    "    import time\n",
    "    \n",
    "    for i in lst1:\n",
    "        start = time.time()\n",
    "        _=myHealthcare(i)\n",
    "        end = time.time()\n",
    "        alist.append(end-start) #add benchmark times to alist. \n",
    "    \n",
    "    return alist\n",
    "#varying runtimes for same sample (n) due to the speed of electrons (electricity)"
   ]
  },
  {
   "cell_type": "code",
   "execution_count": 109,
   "metadata": {},
   "outputs": [
    {
     "name": "stdout",
     "output_type": "stream",
     "text": [
      "[0.01545095443725586, 0.039411306381225586, 0.09513401985168457, 0.09292006492614746, 0.13114500045776367]\n"
     ]
    }
   ],
   "source": [
    "print(benchmarking())\n",
    "#nvalues = [1000,2500,5000, 7500, 10000]\n"
   ]
  },
  {
   "cell_type": "code",
   "execution_count": 110,
   "metadata": {},
   "outputs": [
    {
     "data": {
      "image/png": "[encoded data removed]",
      "text/plain": [
       "<Figure size 432x288 with 1 Axes>"
      ]
     },
     "metadata": {
      "needs_background": "light"
     },
     "output_type": "display_data"
    }
   ],
   "source": [
    "plt.plot(lst1,alist)\n",
    "\n",
    "# Adding title, axis names and adjusting x-axis limits. \n",
    "plt.title('Benchmark of myHealthcare function')\n",
    "plt.xlabel('Operations (n)')\n",
    "plt.ylabel('Time(seconds)')\n",
    "plt.xlim(0,12000)\n",
    "\n",
    "plt.show()"
   ]
  }
 ],
 "metadata": {
  "kernelspec": {
   "display_name": "Python 3",
   "language": "python",
   "name": "python3"
  },
  "language_info": {
   "codemirror_mode": {
    "name": "ipython",
    "version": 3
   },
   "file_extension": ".py",
   "mimetype": "text/x-python",
   "name": "python",
   "nbconvert_exporter": "python",
   "pygments_lexer": "ipython3",
   "version": "3.7.4"
  }
 },
 "nbformat": 4,
 "nbformat_minor": 2
}
